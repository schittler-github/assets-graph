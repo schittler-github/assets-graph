{
 "cells": [
  {
   "cell_type": "markdown",
   "id": "ca42f41c-9735-4954-be56-1c4138f78cb1",
   "metadata": {
    "tags": []
   },
   "source": [
    "# Synthetic data generator for asset networks\n",
    " Here we first create a list of assets; second we distribute randomly their ownership (fractional)."
   ]
  },
  {
   "cell_type": "code",
   "execution_count": 32,
   "id": "d18b5e94-992c-4e7f-8d92-794c710040cd",
   "metadata": {},
   "outputs": [],
   "source": [
    "import random\n",
    "import string\n",
    "\n",
    "N = 30 # number of nodes\n",
    "c = 0.2 # controll parameter for the connectivity U(0,c)\n",
    "\n",
    "\n",
    "# code to generate a single random string\n",
    "def get_random_string(length):\n",
    "    # Only upper case\n",
    "    letters = string.ascii_uppercase\n",
    "    result_str = ''.join(random.choice(letters) for i in range(length))\n",
    "    # print random string\n",
    "    #print(result_str)\n",
    "    return result_str\n",
    "\n",
    "# code to generate a list of random strings. Return approx \"N=length\" elements because identical ones are dropped\n",
    "def gen_random_asset_list(length,name_length):\n",
    "    my_asset_list = []\n",
    "    for i in range(length):\n",
    "        asset_name = get_random_string(name_length)\n",
    "        my_asset_list.append(asset_name)\n",
    "    #print(my_asset_list)\n",
    "    \n",
    "    #remove identical entries by passing the generated list into a set and back to a list.\n",
    "    new_asset_list = list(set(my_asset_list))\n",
    "    return new_asset_list\n"
   ]
  },
  {
   "cell_type": "code",
   "execution_count": 33,
   "id": "18c8e0c4-437e-4c71-b9cc-e2abba204cab",
   "metadata": {},
   "outputs": [
    {
     "name": "stdout",
     "output_type": "stream",
     "text": [
      "IP   0.09671308275040216\n",
      "SV   0.01636687900087619\n",
      "QY   0.023757731392409068\n",
      "EE   0.012599713706235539\n",
      "VP   0.19018248292803172\n",
      "WQ   0.13681158967623105\n",
      "LT   0.09238206052507532\n",
      "OK   0.05611158693292087\n",
      "YA   0.13643769732182537\n",
      "GY   0.003335990014873214\n",
      "RO   0.12578209528940687\n",
      "GJ   0.14896826584680334\n",
      "SN   0.129752356899211\n",
      "FM   0.06973461864094188\n",
      "DL   0.006885513136553567\n",
      "WS   0.008104944036050976\n",
      "FC   0.14794620386905397\n",
      "LI   0.16619831445178246\n",
      "FV   0.16683252899802503\n",
      "RM   0.16341740360701398\n",
      "GL   0.050466868710478036\n",
      "SA   0.0740379331352409\n",
      "KY   0.1378707927442332\n",
      "YW   0.1353994995358157\n",
      "GX   0.15055476276544705\n",
      "KX   0.18296719442025025\n",
      "WN   0.1684973460219613\n",
      "WP   0.004121253982151796\n"
     ]
    }
   ],
   "source": [
    "# random edge probability per node\n",
    "\n",
    "import numpy as np\n",
    "\n",
    "assetlist = gen_random_asset_list(N,2)\n",
    "# generate a list of probabilities to a edge to exists from each node:\n",
    "node_edge_prob = []\n",
    "count = 0\n",
    "for i in assetlist:\n",
    "    node_edge_prob.append(np.random.uniform(0,c))\n",
    "    print(i,\" \",node_edge_prob[count])\n",
    "    count=count+1"
   ]
  },
  {
   "cell_type": "code",
   "execution_count": 34,
   "id": "dae17bed-1ccf-4a63-b503-a302e088dbee",
   "metadata": {},
   "outputs": [
    {
     "name": "stdout",
     "output_type": "stream",
     "text": [
      "[('IP', 'LT'), ('IP', 'OK'), ('IP', 'GY'), ('IP', 'DL'), ('VP', 'WQ'), ('VP', 'SN'), ('VP', 'KY'), ('WQ', 'VP'), ('WQ', 'GJ'), ('WQ', 'FM'), ('WQ', 'WP'), ('LT', 'GJ'), ('LT', 'FM'), ('LT', 'FC'), ('LT', 'YW'), ('OK', 'KX'), ('YA', 'SV'), ('YA', 'LT'), ('YA', 'DL'), ('YA', 'YW'), ('YA', 'WP'), ('RO', 'GL'), ('GJ', 'WQ'), ('GJ', 'OK'), ('GJ', 'RO'), ('GJ', 'SN'), ('GJ', 'DL'), ('GJ', 'LI'), ('GJ', 'SA'), ('SN', 'VP'), ('SN', 'LI'), ('SN', 'FV'), ('SN', 'KX'), ('SN', 'WN'), ('FM', 'QY'), ('FM', 'RM'), ('FM', 'GL'), ('FC', 'VP'), ('FC', 'YA'), ('FC', 'SN'), ('FC', 'YW'), ('LI', 'IP'), ('LI', 'YA'), ('LI', 'RO'), ('LI', 'FM'), ('LI', 'GL'), ('LI', 'SA'), ('LI', 'WP'), ('FV', 'OK'), ('RM', 'IP'), ('RM', 'EE'), ('RM', 'FC'), ('GL', 'FC'), ('SA', 'IP'), ('SA', 'QY'), ('SA', 'LT'), ('SA', 'WP'), ('KY', 'WQ'), ('KY', 'LI'), ('KY', 'YW'), ('KY', 'WN'), ('YW', 'SV'), ('YW', 'YA'), ('YW', 'RM'), ('GX', 'SA'), ('GX', 'YW'), ('KX', 'RO'), ('KX', 'GJ'), ('KX', 'SN'), ('KX', 'WS'), ('KX', 'GL'), ('KX', 'KY'), ('KX', 'GX'), ('WN', 'SV'), ('WN', 'QY'), ('WN', 'YA'), ('WN', 'RM')]\n"
     ]
    }
   ],
   "source": [
    "#generating the edges\n",
    "edges = []\n",
    "\n",
    "count = 0\n",
    "for i in assetlist:\n",
    "    for j in assetlist:\n",
    "        if np.random.uniform(0,1) < node_edge_prob[count] and i!=j:\n",
    "            edges.append((i,j))\n",
    "    count=count+1\n",
    "\n",
    "print(edges)"
   ]
  },
  {
   "cell_type": "code",
   "execution_count": 35,
   "id": "1eefd4ed-529d-4698-8e5a-e5389a6a7e50",
   "metadata": {},
   "outputs": [
    {
     "name": "stdout",
     "output_type": "stream",
     "text": [
      "[0, 0, 0, 0, 0, 0, 0, 0, 0, 0, 0, 0, 0, 0, 0, 0, 0, 0, 0, 0, 0, 0, 0, 0, 0, 0, 0, 0, 0, 0, 0, 0, 0, 0, 0, 0, 0, 0, 0, 0, 0, 0, 0, 0, 0, 0, 0, 0, 0, 0, 0, 0, 0, 0, 0, 0, 0, 0, 0, 0, 0, 0, 0, 0, 0, 0, 0, 0, 0, 0, 0, 0, 0, 0, 0, 0, 0]\n",
      "[0.596998531357922, 0.10483816584038752, 1, 0.5655071432579051, 0.16041247441394602, 0.283604478265729, 0.019125734102951264, 0.2635864246301869, 0.21358974199103464, 0.8009666358136861, 0.0686982560565268, 0.44016551976526075, 0.05895762809512728, 0.9285715271345808, 0.23581724177511176, 0.3687396178814931, 0.17334161807480342, 0.019185251946500226, 0.3711127462687642, 0.22861212647880924, 0.35757086264854665, 0.1468923357803701, 0.3992285275821551, 0.17104815658069017, 0.0917131157584018, 0.4031029954349462, 0.0633801104733307, 0.07088431388001026, 0.7263661641542007, 0.38161498813343575, 0.22352727629846636, 1, 0.6312603821185069, 0.669849832708996, 0.3304761335523846, 0.31484119713770586, 0.06807426058140675, 0.35479858723637736, 0.13365443592998705, 0.09708537078137558, 0.3978387525665056, 0.16658088642307678, 0.0720955162257948, 0.5408036079665742, 0.14007573609118662, 0.6782269791707088, 0.13972139425730556, 0.012690691250313524, 0.7241136775789223, 0.58951491553029, 1, 0.04916438349320551, 0.02226408937221369, 0.2439041980466332, 0.26197510141329416, 0.38381621669557775, 0.561040190044613, 0.4403589980038989, 0.7055884098215234, 0.06689377444274558, 0.330150167291004, 0.2716145023608557, 0.6403257070162003, 0.1167559412858824, 0.1339124415884937, 0.07083810473682783, 0.367483276275024, 0.3462447382437046, 0.21620715551794922, 1, 0.10680642446751432, 0.9808742658970487, 1, 0.5550438795643409, 0.40754876503432125, 0.15392434082801787, 0.5684028615764117]\n",
      "[100, 100, 100, 100, 100, 100, 100, 100, 100, 100, 100, 100, 100, 100, 100, 100, 100, 100, 100, 100, 100, 100, 100, 100, 100, 100, 100, 100]\n"
     ]
    }
   ],
   "source": [
    "#generate edges weigths: percentage over ownership\n",
    "\n",
    "weights = [0]*len(edges)\n",
    "print(weights)\n",
    "assets_value = []\n",
    "\n",
    "#this will split the value in a given number of parts\n",
    "def split_num_random(value,num_parts):\n",
    "    dividing_points = []\n",
    "    parts = []\n",
    "    if num_parts == 1:\n",
    "        parts.append(value)\n",
    "        \n",
    "    elif num_parts > 1:\n",
    "        for i in range(0, num_parts-1):\n",
    "            dividing_points.append(np.random.uniform(0,value))\n",
    "        dividing_points.sort()\n",
    "        #print(dividing_points)\n",
    "        old_value = 0\n",
    "        for i in range(len(dividing_points)):\n",
    "            parts.append(dividing_points[i]-old_value)\n",
    "            old_value = dividing_points[i]\n",
    "        parts.append(value-old_value)\n",
    "        #print(parts)\n",
    "    return parts\n",
    "\n",
    "\n",
    "#here edges and weights vectors must already be define\n",
    "#this code associate divide the ownership into many parts, each corresponding to an in-vector to a node\n",
    "def gen_edge_weights(node):\n",
    "    # count number of connections for a node\n",
    "    count = 0\n",
    "    edges_index=[]\n",
    "    \n",
    "    for i in range(len(edges)):\n",
    "        if edges[i][1] == node:\n",
    "            edges_index.append(i)\n",
    "            count=count+1\n",
    "    \n",
    "    #print(count)\n",
    "    parts_local = split_num_random(1,count)\n",
    "    #print(parts_local)\n",
    "    \n",
    "    count = 0\n",
    "    for i in edges_index:\n",
    "        #print(i)\n",
    "        # weights are changed directly over the external variable\n",
    "        weights[i]=parts_local[count]\n",
    "        count=count+1\n",
    "\n",
    "    return True\n",
    "\n",
    "#weights and node values\n",
    "for i in assetlist:\n",
    "    #generate the weights of connections\n",
    "    health=gen_edge_weights(i)\n",
    "    #generate the node value (between 1 and 100)\n",
    "    #assets_value.append(np.random.uniform(1,100))\n",
    "    \n",
    "    #for testing, all worth 100\n",
    "    assets_value.append(100)\n",
    "    \n",
    "print(weights)\n",
    "print(assets_value)"
   ]
  },
  {
   "cell_type": "code",
   "execution_count": 36,
   "id": "71e1fe2a-79f2-4936-ac68-fb7557aab78f",
   "metadata": {},
   "outputs": [
    {
     "name": "stdout",
     "output_type": "stream",
     "text": [
      "DiGraph with 28 nodes and 77 edges\n",
      "test.html\n"
     ]
    },
    {
     "data": {
      "text/html": [
       "\n",
       "        <iframe\n",
       "            width=\"100%\"\n",
       "            height=\"600px\"\n",
       "            src=\"test.html\"\n",
       "            frameborder=\"0\"\n",
       "            allowfullscreen\n",
       "            \n",
       "        ></iframe>\n",
       "        "
      ],
      "text/plain": [
       "<IPython.lib.display.IFrame at 0x22a3ac63220>"
      ]
     },
     "execution_count": 36,
     "metadata": {},
     "output_type": "execute_result"
    }
   ],
   "source": [
    "# plot the graph\n",
    "\n",
    "import networkx as nx\n",
    "#import matplotlib.pyplot as plt\n",
    "from pyvis.network import Network\n",
    "\n",
    "G=nx.DiGraph()\n",
    "G.add_edges_from(edges)\n",
    "count=0\n",
    "print(G)\n",
    "net = Network(directed =True,notebook=True, cdn_resources='remote')\n",
    "net.from_nx(G)\n",
    "net.repulsion()\n",
    "net.show(\"test.html\")\n",
    "\n"
   ]
  },
  {
   "cell_type": "code",
   "execution_count": 37,
   "id": "9116a078-7db6-4892-9fb3-0ca6aebbc432",
   "metadata": {},
   "outputs": [],
   "source": [
    "# setting an output to be loaded in Gremling as a dataset\n",
    "# here I will format the output in the graphML standard\n",
    "import os\n",
    "import time\n",
    "\n",
    "G2=nx.DiGraph()\n",
    "for i in range(len(assetlist)):\n",
    "    G2.add_node(assetlist[i],value=assets_value[i])\n",
    "    \n",
    "for i in range(len(edges)):\n",
    "    G2.add_edge(edges[i][0],edges[i][1],fraction=weights[i])\n",
    "    \n",
    "#print(nx.get_node_attributes(G2,\"value\"))\n",
    "#print(\"\\n\",nx.get_edge_attributes(G2,\"fraction\"))\n",
    "\n",
    "time_stamp = time.strftime(\"%d-%H%M%S\") \n",
    "file_name = \"./data/graph_\"+time_stamp +\".graphml\"\n",
    "output_file = open(file_name,\"w\")\n",
    "nx.write_graphml_lxml(G2,file_name)\n",
    "output_file.close()"
   ]
  },
  {
   "cell_type": "code",
   "execution_count": null,
   "id": "beae5e41-47e9-4128-a2cd-2c7bdf378726",
   "metadata": {},
   "outputs": [],
   "source": []
  }
 ],
 "metadata": {
  "kernelspec": {
   "display_name": "Python 3 (ipykernel)",
   "language": "python",
   "name": "python3"
  },
  "language_info": {
   "codemirror_mode": {
    "name": "ipython",
    "version": 3
   },
   "file_extension": ".py",
   "mimetype": "text/x-python",
   "name": "python",
   "nbconvert_exporter": "python",
   "pygments_lexer": "ipython3",
   "version": "3.10.7"
  }
 },
 "nbformat": 4,
 "nbformat_minor": 5
}
