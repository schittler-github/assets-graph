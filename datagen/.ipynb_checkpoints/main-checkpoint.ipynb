{
 "cells": [
  {
   "cell_type": "markdown",
   "id": "ca42f41c-9735-4954-be56-1c4138f78cb1",
   "metadata": {
    "tags": []
   },
   "source": [
    "# Synthetic data generator for asset networks and graph analysis\n",
    "The code for this demostration is separated into a few files for readability:\n",
    "1. the \"main\" file itself\n",
    "2. data_gen2.py: for data generation \n",
    "3. graph_view.py: to display the graph in a browser tab\n",
    "4. graph_exporter.py: to export the data into a graphml standart file\n",
    "\n",
    "#### Notice:\n",
    "This code is a demonstration, it is not optimized. By the contrary, it stores a lot of information that is intended for learning, debuging and experimenting in general. It uses a LOT of MEMORY. So, keep the number of nodes up to 20 or so. This will allow you to confirmed the analysis manualy, by inspection the displayed graph. Also noticed that memory is also hold in the Gremlin server. \n"
   ]
  },
  {
   "cell_type": "markdown",
   "id": "31753c1b-75c0-4a01-bb50-b4feff7bfc31",
   "metadata": {},
   "source": [
    "## Generating and displaying a random graph"
   ]
  },
  {
   "cell_type": "code",
   "execution_count": 1,
   "id": "7d61f66f-b048-492e-a30e-d38c58ec4261",
   "metadata": {},
   "outputs": [
    {
     "name": "stdout",
     "output_type": "stream",
     "text": [
      "number of nodes:  10  probability per connection:  0.2  names length:  2\n",
      "List of assets(nodes):  ['RG', 'IW', 'GF', 'HU', 'GO', 'NK', 'ZT', 'IO', 'YD']\n",
      "List of connections(edges):  [('RG', 'ZT'), ('IW', 'GO'), ('IW', 'NK'), ('GF', 'IW'), ('GF', 'NK'), ('GO', 'ZT'), ('NK', 'HU'), ('ZT', 'GF'), ('ZT', 'GO'), ('ZT', 'YD'), ('YD', 'GO'), ('YD', 'ZT')]\n"
     ]
    },
    {
     "ename": "IndexError",
     "evalue": "list index out of range",
     "output_type": "error",
     "traceback": [
      "\u001b[1;31m---------------------------------------------------------------------------\u001b[0m",
      "\u001b[1;31mIndexError\u001b[0m                                Traceback (most recent call last)",
      "Cell \u001b[1;32mIn [1], line 21\u001b[0m\n\u001b[0;32m     17\u001b[0m graph_file_name \u001b[38;5;241m=\u001b[39m \u001b[38;5;124m\"\u001b[39m\u001b[38;5;124mD:\u001b[39m\u001b[38;5;130;01m\\\\\u001b[39;00m\u001b[38;5;124mgitrepos\u001b[39m\u001b[38;5;130;01m\\\\\u001b[39;00m\u001b[38;5;124massetnet\u001b[39m\u001b[38;5;130;01m\\\\\u001b[39;00m\u001b[38;5;124mdatagen\u001b[39m\u001b[38;5;124m\\\u001b[39m\u001b[38;5;124mdata\u001b[39m\u001b[38;5;130;01m\\\\\u001b[39;00m\u001b[38;5;124mgraph_\u001b[39m\u001b[38;5;124m\"\u001b[39m\u001b[38;5;241m+\u001b[39mtime_stamp \u001b[38;5;241m+\u001b[39m\u001b[38;5;124m\"\u001b[39m\u001b[38;5;124m.html\u001b[39m\u001b[38;5;124m\"\u001b[39m\n\u001b[0;32m     19\u001b[0m \u001b[38;5;66;03m# this step generates a random netwotk with approx N nodes and the probability of directed interconnections is conProb.\u001b[39;00m\n\u001b[0;32m     20\u001b[0m \u001b[38;5;66;03m# An unique random name of length nameLengeh is associated to each node.\u001b[39;00m\n\u001b[1;32m---> 21\u001b[0m myGraph \u001b[38;5;241m=\u001b[39m \u001b[43mAssetNetwork\u001b[49m\u001b[43m(\u001b[49m\u001b[43mN\u001b[49m\u001b[43m,\u001b[49m\u001b[43mconProb\u001b[49m\u001b[43m,\u001b[49m\u001b[43mnameLength\u001b[49m\u001b[43m)\u001b[49m\n",
      "File \u001b[1;32mD:\\gitrepos\\assetnet\\datagen\\data_gen2.py:16\u001b[0m, in \u001b[0;36mAssetNetwork.__init__\u001b[1;34m(self, number_nodes, connect_probability, name_length)\u001b[0m\n\u001b[0;32m     14\u001b[0m \u001b[38;5;28mprint\u001b[39m(\u001b[38;5;124m\"\u001b[39m\u001b[38;5;124mList of connections(edges): \u001b[39m\u001b[38;5;124m\"\u001b[39m,\u001b[38;5;28mself\u001b[39m\u001b[38;5;241m.\u001b[39medges)\n\u001b[0;32m     15\u001b[0m \u001b[38;5;28mself\u001b[39m\u001b[38;5;241m.\u001b[39mweights \u001b[38;5;241m=\u001b[39m [\u001b[38;5;241m0\u001b[39m]\u001b[38;5;241m*\u001b[39m\u001b[38;5;28mlen\u001b[39m(\u001b[38;5;28mself\u001b[39m\u001b[38;5;241m.\u001b[39medges)\n\u001b[1;32m---> 16\u001b[0m \u001b[38;5;28mself\u001b[39m\u001b[38;5;241m.\u001b[39massetsValue \u001b[38;5;241m=\u001b[39m \u001b[38;5;28;43mself\u001b[39;49m\u001b[38;5;241;43m.\u001b[39;49m\u001b[43mgen_edge_weights\u001b[49m\u001b[43m(\u001b[49m\u001b[43m)\u001b[49m\n\u001b[0;32m     17\u001b[0m \u001b[38;5;28mprint\u001b[39m(\u001b[38;5;124m\"\u001b[39m\u001b[38;5;124mConnections(edges) weights: \u001b[39m\u001b[38;5;124m\"\u001b[39m,\u001b[38;5;28mself\u001b[39m\u001b[38;5;241m.\u001b[39mweights)\n",
      "File \u001b[1;32mD:\\gitrepos\\assetnet\\datagen\\data_gen2.py:83\u001b[0m, in \u001b[0;36mAssetNetwork.gen_edge_weights\u001b[1;34m(self)\u001b[0m\n\u001b[0;32m     79\u001b[0m     count \u001b[38;5;241m=\u001b[39m \u001b[38;5;241m0\u001b[39m\n\u001b[0;32m     80\u001b[0m     \u001b[38;5;28;01mfor\u001b[39;00m j \u001b[38;5;129;01min\u001b[39;00m edges_index:\n\u001b[0;32m     81\u001b[0m         \u001b[38;5;66;03m#print(j)\u001b[39;00m\n\u001b[0;32m     82\u001b[0m         \u001b[38;5;66;03m# weights are changed directly over the external variable\u001b[39;00m\n\u001b[1;32m---> 83\u001b[0m         \u001b[38;5;28mself\u001b[39m\u001b[38;5;241m.\u001b[39mweights[j]\u001b[38;5;241m=\u001b[39m\u001b[43mparts_local\u001b[49m\u001b[43m[\u001b[49m\u001b[43mcount\u001b[49m\u001b[43m]\u001b[49m\n\u001b[0;32m     84\u001b[0m         count\u001b[38;5;241m=\u001b[39mcount\u001b[38;5;241m+\u001b[39m\u001b[38;5;241m1\u001b[39m\n\u001b[0;32m     86\u001b[0m \u001b[38;5;66;03m#print(self.weights)        \u001b[39;00m\n",
      "\u001b[1;31mIndexError\u001b[0m: list index out of range"
     ]
    }
   ],
   "source": [
    "# we start by setting the system parameters and the naming of the output files.\n",
    "# here I will format the output in the graphML standard for datafiles and html for the visual graphics.\n",
    "import os\n",
    "import time\n",
    "import string\n",
    "from data_gen2 import AssetNetwork\n",
    "from graph_view import GraphView\n",
    "import graph_exporter as ge\n",
    "\n",
    "N = 10  # number of nodes\n",
    "conProb = 0.2 # the probability of a connection between two vertices to exist\n",
    "nameLength = 2 # how long is each node random name. This may affect the size of the graph, as those names are unique.\n",
    "\n",
    "# we are using time to create unique names for each experiment\n",
    "time_stamp = time.strftime(\"%d-%H%M%S\") \n",
    "data_file_name = \"D:\\\\gitrepos\\\\assetnet\\\\datagen\\data\\\\graph_\"+time_stamp +\".xml\"\n",
    "graph_file_name = \"D:\\\\gitrepos\\\\assetnet\\\\datagen\\data\\\\graph_\"+time_stamp +\".html\"\n",
    "\n",
    "# this step generates a random netwotk with approx N nodes and the probability of directed interconnections is conProb.\n",
    "# An unique random name of length nameLengeh is associated to each node.\n",
    "myGraph = AssetNetwork(N,conProb,nameLength)"
   ]
  },
  {
   "cell_type": "code",
   "execution_count": null,
   "id": "f69c2994-f441-4761-b3ad-e0216e75d8ac",
   "metadata": {},
   "outputs": [],
   "source": [
    "# this step will prepare a graph for display\n",
    "myDisplay = GraphView(myGraph,graph_file_name)\n",
    "\n",
    "#this will save the graph into an html file and display the result in a new tab\n",
    "myDisplay.display()\n",
    "\n",
    "# here we export our graph to a xml file in the graphml standard and display it in a new tab\n",
    "ge.to_graphmlFile(myGraph,data_file_name)"
   ]
  },
  {
   "cell_type": "markdown",
   "id": "df3b0de9-2d17-456c-8cc1-f03ddbeab087",
   "metadata": {},
   "source": [
    "## Connecting to the gremlin server\n",
    "For the following to work, we need to have a gremlin server running with the right configuration. Please read the GremlinConfig.txt before running this code.\n",
    "The next cell will create a connection and a traversal with/from the gremlin server. These are the steps:\n",
    "1. create a connection\n",
    "2. create an empty graph\n",
    "3. load our exported graph into Gremlin"
   ]
  },
  {
   "cell_type": "code",
   "execution_count": null,
   "id": "46183261-9922-4661-a297-8129952a279d",
   "metadata": {},
   "outputs": [],
   "source": [
    "# setup the connection to the Gremlin server\n",
    "from gremlin_python import statics\n",
    "from gremlin_python.structure.graph import Graph\n",
    "from gremlin_python.process.graph_traversal import __\n",
    "from gremlin_python.process.strategies import *\n",
    "\n",
    "# python and Gremlin commands overlap in their naming. This library will provide the mapping to resolve that: search the library itself to find the right prefixed for each gremlin command, from the list imported bellow, e.g ID is T.id, within is P.within.\n",
    "from gremlin_python.process.traversal import Barrier, Bindings, Cardinality, Column, Direction, Operator, Order, P, Pop, Scope, T, WithOptions\n",
    "\n",
    "# Create a GraphTraversalSource which is the basis for all Gremlin traversals\n",
    "from gremlin_python.process.anonymous_traversal import traversal\n",
    "from gremlin_python.driver.driver_remote_connection import DriverRemoteConnection\n",
    "\n",
    "#directly from python (not a notebook like jupter) do this\n",
    "#g = traversal().withRemote(DriverRemoteConnection('ws://localhost:8182/gremlin','g'))\n",
    "\n",
    "#only for notebooks, to avoit \"loop already running\" error, do this:\n",
    "from gremlin_python.driver.aiohttp.transport import AiohttpTransport\n",
    "\n",
    "connection = DriverRemoteConnection('ws://localhost:8182/gremlin','g', transport_factory=lambda:AiohttpTransport(call_from_event_loop=True))\n",
    "g = traversal().withRemote(connection)\n",
    "g.V().drop().iterate()\n",
    "\n",
    "#load our data to the server\n",
    "g.io(data_file_name).read().iterate()"
   ]
  },
  {
   "cell_type": "markdown",
   "id": "e3e4667b-5407-497d-9db5-58ce4a6806c8",
   "metadata": {},
   "source": [
    "## Analysis of the graph\n",
    "Now that we have the data loaded onto the Gremlin server, we can perform any queries using traversals.\n",
    "We can also use the integration with python to manipulate and display the results of those queries. "
   ]
  },
  {
   "cell_type": "markdown",
   "id": "bf2483d4-5a0e-45ab-a83d-ccc7a6d6104a",
   "metadata": {},
   "source": [
    "### Example 1\n",
    "The random graphs generated above are compose of nodes, representing assets, and directed edges, representing which fraction of an asset is controlled/owned by the asset in the origin. In this example, we pose the question \"Do an asset owns itself indirectly?And if so, how much in percentage\"? Because this is basically a question about feedback loops in a graph, in a graph language, the query becomes intuitive. Even though it requires a few steps (under 100 lines), the algorithm takes care that all paths are all distict and direct. "
   ]
  },
  {
   "cell_type": "markdown",
   "id": "f3fbdd26-bd1f-4d5a-bcd4-9a2704dd02ac",
   "metadata": {},
   "source": [
    "#### Analysis:"
   ]
  },
  {
   "cell_type": "code",
   "execution_count": null,
   "id": "bfe7b6a5-f443-4fc7-9727-bbb5b8051646",
   "metadata": {},
   "outputs": [],
   "source": [
    "# create variables and run analysis: look inside examples.py for details\n",
    "from examples import Example1\n",
    "\n",
    "exp1 = Example1(g,myGraph)\n",
    "exp1.runAnalysis()"
   ]
  },
  {
   "cell_type": "markdown",
   "id": "1d676ac0-6ede-4af9-9d11-9cc0745c64bf",
   "metadata": {},
   "source": [
    "#### Display results:"
   ]
  },
  {
   "cell_type": "code",
   "execution_count": null,
   "id": "0c72746e-a5c0-4b25-be54-415d1b51735b",
   "metadata": {},
   "outputs": [],
   "source": [
    "import numpy as np\n",
    "import matplotlib.pyplot as plt\n",
    " \n",
    "# prepar the data for plotting\n",
    "data = {}\n",
    "for i in range(len(myGraph.assetlist)):\n",
    "    data[myGraph.assetlist[i]] = exp1.lista_fractio_perAsset[i]\n",
    "sorted_data = dict(sorted(data.items(), key=lambda item: item[1],reverse=True))\n",
    "    \n",
    "assets = list(sorted_data.keys())\n",
    "values = list(sorted_data.values())\n",
    "\n",
    "#configure preferences\n",
    "fig = plt.figure(figsize = (10, 5)) \n",
    "plt.bar(assets, values, color ='maroon', width = 0.4)\n",
    " \n",
    "plt.xlabel(\"asset name\")\n",
    "plt.ylabel(\"fraction (%)\")\n",
    "plt.title(\"Asset indirect self-ownership\")\n",
    "plt.show()"
   ]
  },
  {
   "cell_type": "markdown",
   "id": "d733c365-90c8-44d6-a63b-b8e04957445c",
   "metadata": {},
   "source": [
    "### Example 2\n",
    "The random graphs generated above are compose of nodes, representing assets, and directed edges, representing which fraction of an asset is controlled/owned by the asset in the origin. Given that the interdepence between nodes are encided in the graph itself, how does a node failure affect other nodes? Are there cascate effects?"
   ]
  },
  {
   "cell_type": "code",
   "execution_count": null,
   "id": "0655c1f2-6c71-479f-ac34-dfd6b6cbcbb8",
   "metadata": {},
   "outputs": [],
   "source": [
    "from examples import Example2\n",
    "\n",
    "exp2 = Example2(g,myGraph)"
   ]
  },
  {
   "cell_type": "code",
   "execution_count": null,
   "id": "111117fa-d18f-48eb-a6e5-d9f2e4e669c6",
   "metadata": {},
   "outputs": [],
   "source": [
    "# The connection should be closed on shut down to close open connections with connection.close()\n",
    "#dealocate memory for the large objects and server\n",
    "del exp1\n",
    "del myGraph\n",
    "g.V().drop().iterate()\n",
    "\n",
    "connection.close()"
   ]
  }
 ],
 "metadata": {
  "kernelspec": {
   "display_name": "Python 3 (ipykernel)",
   "language": "python",
   "name": "python3"
  },
  "language_info": {
   "codemirror_mode": {
    "name": "ipython",
    "version": 3
   },
   "file_extension": ".py",
   "mimetype": "text/x-python",
   "name": "python",
   "nbconvert_exporter": "python",
   "pygments_lexer": "ipython3",
   "version": "3.10.7"
  }
 },
 "nbformat": 4,
 "nbformat_minor": 5
}
