{
 "cells": [
  {
   "cell_type": "markdown",
   "id": "ca42f41c-9735-4954-be56-1c4138f78cb1",
   "metadata": {
    "tags": []
   },
   "source": [
    "# Synthetic data generator for asset networks\n",
    " Here we first create a list of assets; second we distribute randomly their ownership (fractional)."
   ]
  },
  {
   "cell_type": "code",
   "execution_count": 112,
   "id": "d18b5e94-992c-4e7f-8d92-794c710040cd",
   "metadata": {},
   "outputs": [],
   "source": [
    "import random\n",
    "import string\n",
    "\n",
    "# code to generate a single random string\n",
    "def get_random_string(length):\n",
    "    # Only upper case\n",
    "    letters = string.ascii_uppercase\n",
    "    result_str = ''.join(random.choice(letters) for i in range(length))\n",
    "    # print random string\n",
    "    #print(result_str)\n",
    "    return result_str\n",
    "\n",
    "# code to generate a list of random strings. Return approx \"N=length\" elements because identical ones are dropped\n",
    "def gen_random_asset_list(length,name_length):\n",
    "    my_asset_list = []\n",
    "    for i in range(length):\n",
    "        asset_name = get_random_string(name_length)\n",
    "        my_asset_list.append(asset_name)\n",
    "    #print(my_asset_list)\n",
    "    \n",
    "    #remove identical entries by passing the generated list into a set and back to a list.\n",
    "    new_asset_list = list(set(my_asset_list))\n",
    "    return new_asset_list\n"
   ]
  },
  {
   "cell_type": "code",
   "execution_count": 116,
   "id": "18c8e0c4-437e-4c71-b9cc-e2abba204cab",
   "metadata": {},
   "outputs": [],
   "source": [
    "# random edge probability per node\n",
    "\n",
    "import numpy as np\n",
    "\n",
    "assetlist = gen_random_asset_list(40,2)\n",
    "# generate a list of probabilities to a edge to exists from each node:\n",
    "node_edge_prob = []\n",
    "count = 0\n",
    "for i in assetlist:\n",
    "    node_edge_prob.append(np.random.uniform(0,0.1))\n",
    "    #print(i,\" \",node_edge_prob[count])\n",
    "    count=count+1"
   ]
  },
  {
   "cell_type": "code",
   "execution_count": 117,
   "id": "dae17bed-1ccf-4a63-b503-a302e088dbee",
   "metadata": {},
   "outputs": [],
   "source": [
    "#generating the edges\n",
    "edges = []\n",
    "\n",
    "count = 0\n",
    "for i in assetlist:\n",
    "    for j in assetlist:\n",
    "        if np.random.uniform(0,1) < node_edge_prob[count] and i!=j:\n",
    "            edges.append((i,j))\n",
    "    count=count+1\n",
    "\n",
    "#print(edges)"
   ]
  },
  {
   "cell_type": "code",
   "execution_count": 115,
   "id": "71e1fe2a-79f2-4936-ac68-fb7557aab78f",
   "metadata": {},
   "outputs": [
    {
     "name": "stdout",
     "output_type": "stream",
     "text": [
      "test.html\n"
     ]
    },
    {
     "data": {
      "text/html": [
       "\n",
       "        <iframe\n",
       "            width=\"100%\"\n",
       "            height=\"600px\"\n",
       "            src=\"test.html\"\n",
       "            frameborder=\"0\"\n",
       "            allowfullscreen\n",
       "            \n",
       "        ></iframe>\n",
       "        "
      ],
      "text/plain": [
       "<IPython.lib.display.IFrame at 0x21edf754220>"
      ]
     },
     "execution_count": 115,
     "metadata": {},
     "output_type": "execute_result"
    }
   ],
   "source": [
    "# plot the graph\n",
    "\n",
    "import networkx as nx\n",
    "#import matplotlib.pyplot as plt\n",
    "from pyvis.network import Network\n",
    "\n",
    "G=nx.DiGraph()\n",
    "G.add_edges_from(edges)\n",
    "\n",
    "net = Network(directed =True,notebook=True, cdn_resources='remote')\n",
    "net.from_nx(G)\n",
    "net.repulsion()\n",
    "net.show(\"test.html\")\n",
    "\n"
   ]
  },
  {
   "cell_type": "code",
   "execution_count": null,
   "id": "9116a078-7db6-4892-9fb3-0ca6aebbc432",
   "metadata": {},
   "outputs": [],
   "source": []
  }
 ],
 "metadata": {
  "kernelspec": {
   "display_name": "Python 3 (ipykernel)",
   "language": "python",
   "name": "python3"
  },
  "language_info": {
   "codemirror_mode": {
    "name": "ipython",
    "version": 3
   },
   "file_extension": ".py",
   "mimetype": "text/x-python",
   "name": "python",
   "nbconvert_exporter": "python",
   "pygments_lexer": "ipython3",
   "version": "3.10.7"
  }
 },
 "nbformat": 4,
 "nbformat_minor": 5
}
