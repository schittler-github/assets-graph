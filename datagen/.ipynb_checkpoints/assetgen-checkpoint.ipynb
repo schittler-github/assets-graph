{
 "cells": [
  {
   "cell_type": "markdown",
   "id": "ca42f41c-9735-4954-be56-1c4138f78cb1",
   "metadata": {
    "tags": []
   },
   "source": [
    "# Synthetic data generator for asset networks\n",
    " Here we first create a list of assets; second we distribute randomly their ownership (fractional)."
   ]
  },
  {
   "cell_type": "code",
   "execution_count": 8,
   "id": "d18b5e94-992c-4e7f-8d92-794c710040cd",
   "metadata": {},
   "outputs": [
    {
     "name": "stdout",
     "output_type": "stream",
     "text": [
      "['EVAU', 'HTPN', 'YIVQ', 'XDFP', 'LRIU', 'DCXQ', 'SIQW', 'ISLJ', 'RPUY', 'BMOZ']\n"
     ]
    },
    {
     "data": {
      "text/plain": [
       "['EVAU',\n",
       " 'HTPN',\n",
       " 'YIVQ',\n",
       " 'XDFP',\n",
       " 'LRIU',\n",
       " 'DCXQ',\n",
       " 'SIQW',\n",
       " 'ISLJ',\n",
       " 'RPUY',\n",
       " 'BMOZ']"
      ]
     },
     "execution_count": 8,
     "metadata": {},
     "output_type": "execute_result"
    }
   ],
   "source": [
    "import random\n",
    "import string\n",
    "\n",
    "# code to generate a single random string\n",
    "def get_random_string(length):\n",
    "    # Only upper case\n",
    "    letters = string.ascii_uppercase\n",
    "    result_str = ''.join(random.choice(letters) for i in range(length))\n",
    "    # print random string\n",
    "    #print(result_str)\n",
    "    return result_str\n",
    "\n",
    "# code to generate a list of random strings\n",
    "def gen_random_asset_list(length,name_length):\n",
    "    my_asset_list = []\n",
    "    for i in range(length):\n",
    "        asset_name = get_random_string(name_length)\n",
    "        my_asset_list.append(asset_name)\n",
    "    #print(my_asset_list)\n",
    "    return my_asset_list\n",
    "\n",
    "    \n",
    "gen_random_asset_list(10,4)"
   ]
  },
  {
   "cell_type": "code",
   "execution_count": null,
   "id": "18c8e0c4-437e-4c71-b9cc-e2abba204cab",
   "metadata": {},
   "outputs": [],
   "source": []
  }
 ],
 "metadata": {
  "kernelspec": {
   "display_name": "Python 3 (ipykernel)",
   "language": "python",
   "name": "python3"
  },
  "language_info": {
   "codemirror_mode": {
    "name": "ipython",
    "version": 3
   },
   "file_extension": ".py",
   "mimetype": "text/x-python",
   "name": "python",
   "nbconvert_exporter": "python",
   "pygments_lexer": "ipython3",
   "version": "3.10.7"
  }
 },
 "nbformat": 4,
 "nbformat_minor": 5
}
