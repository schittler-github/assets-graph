{
 "cells": [
  {
   "cell_type": "markdown",
   "id": "ca42f41c-9735-4954-be56-1c4138f78cb1",
   "metadata": {
    "tags": []
   },
   "source": [
    "# Synthetic data generator for asset networks\n",
    " Here we first create a list of assets; second we distribute randomly their ownership (fractional)."
   ]
  },
  {
   "cell_type": "code",
   "execution_count": 1,
   "id": "d18b5e94-992c-4e7f-8d92-794c710040cd",
   "metadata": {},
   "outputs": [],
   "source": [
    "import random\n",
    "import string\n",
    "\n",
    "# code to generate a single random string\n",
    "def get_random_string(length):\n",
    "    # Only upper case\n",
    "    letters = string.ascii_uppercase\n",
    "    result_str = ''.join(random.choice(letters) for i in range(length))\n",
    "    # print random string\n",
    "    #print(result_str)\n",
    "    return result_str\n",
    "\n",
    "# code to generate a list of random strings. Return approx \"N=length\" elements because identical ones are dropped\n",
    "def gen_random_asset_list(length,name_length):\n",
    "    my_asset_list = []\n",
    "    for i in range(length):\n",
    "        asset_name = get_random_string(name_length)\n",
    "        my_asset_list.append(asset_name)\n",
    "    #print(my_asset_list)\n",
    "    \n",
    "    #remove identical entries by passing the generated list into a set and back to a list.\n",
    "    new_asset_list = list(set(my_asset_list))\n",
    "    return new_asset_list\n"
   ]
  },
  {
   "cell_type": "code",
   "execution_count": 2,
   "id": "18c8e0c4-437e-4c71-b9cc-e2abba204cab",
   "metadata": {},
   "outputs": [
    {
     "name": "stdout",
     "output_type": "stream",
     "text": [
      "VN   0.07727609736323748\n",
      "XO   0.0072445223443101114\n",
      "CJ   0.4441718863991855\n",
      "UO   0.4876682407575543\n",
      "RX   0.3171874605963677\n",
      "CH   0.14878082554179495\n",
      "WM   0.3165648890710265\n",
      "LZ   0.40614687014244966\n",
      "ZS   0.1229900794546806\n",
      "JJ   0.49026221151420807\n"
     ]
    }
   ],
   "source": [
    "# random edge probability per node\n",
    "\n",
    "import numpy as np\n",
    "\n",
    "assetlist = gen_random_asset_list(10,2)\n",
    "# generate a list of probabilities to a edge to exists from each node:\n",
    "node_edge_prob = []\n",
    "count = 0\n",
    "for i in assetlist:\n",
    "    node_edge_prob.append(np.random.uniform(0,0.5))\n",
    "    print(i,\" \",node_edge_prob[count])\n",
    "    count=count+1"
   ]
  },
  {
   "cell_type": "code",
   "execution_count": 3,
   "id": "dae17bed-1ccf-4a63-b503-a302e088dbee",
   "metadata": {},
   "outputs": [
    {
     "name": "stdout",
     "output_type": "stream",
     "text": [
      "[('CJ', 'UO'), ('CJ', 'CH'), ('CJ', 'JJ'), ('UO', 'XO'), ('UO', 'RX'), ('UO', 'CH'), ('UO', 'ZS'), ('RX', 'UO'), ('RX', 'CH'), ('RX', 'LZ'), ('RX', 'JJ'), ('WM', 'LZ'), ('WM', 'JJ'), ('LZ', 'VN'), ('LZ', 'XO'), ('LZ', 'WM'), ('LZ', 'JJ'), ('JJ', 'VN'), ('JJ', 'CJ'), ('JJ', 'WM'), ('JJ', 'ZS')]\n"
     ]
    }
   ],
   "source": [
    "#generating the edges\n",
    "edges = []\n",
    "\n",
    "count = 0\n",
    "for i in assetlist:\n",
    "    for j in assetlist:\n",
    "        if np.random.uniform(0,1) < node_edge_prob[count] and i!=j:\n",
    "            edges.append((i,j))\n",
    "    count=count+1\n",
    "\n",
    "print(edges)"
   ]
  },
  {
   "cell_type": "code",
   "execution_count": 4,
   "id": "1eefd4ed-529d-4698-8e5a-e5389a6a7e50",
   "metadata": {},
   "outputs": [
    {
     "name": "stdout",
     "output_type": "stream",
     "text": [
      "[0, 0, 0, 0, 0, 0, 0, 0, 0, 0, 0, 0, 0, 0, 0, 0, 0, 0, 0, 0, 0]\n",
      "[0.18294082436623982, 0.5270461755539644, 0.32221368243755877, 0.3660418628716223, 1, 0.18043023760170718, 0.04526949780921219, 0.8170591756337602, 0.29252358684432844, 0.18030796851242747, 0.1786311848258123, 0.8196920314875725, 0.004420388134103503, 0.2440035249542467, 0.6339581371283777, 0.6991848045633375, 0.4947347446025254, 0.7559964750457533, 1, 0.30081519543666246, 0.9547305021907878]\n",
      "[65.73142146868169, 97.74581512630425, 31.241694626483024, 33.358550893124345, 95.9976560529197, 63.08817583623501, 58.63427824516458, 40.966957244386506, 48.68201325380122, 51.717548706499386]\n"
     ]
    }
   ],
   "source": [
    "#generate edges weigths: percentage over ownership\n",
    "\n",
    "weights = [0]*len(edges)\n",
    "print(weights)\n",
    "assets_value = []\n",
    "\n",
    "#this will split the value in a given number of parts\n",
    "def split_num_random(value,num_parts):\n",
    "    dividing_points = []\n",
    "    parts = []\n",
    "    if num_parts == 1:\n",
    "        parts.append(value)\n",
    "        \n",
    "    elif num_parts > 1:\n",
    "        for i in range(0, num_parts-1):\n",
    "            dividing_points.append(np.random.uniform(0,value))\n",
    "        dividing_points.sort()\n",
    "        #print(dividing_points)\n",
    "        old_value = 0\n",
    "        for i in range(len(dividing_points)):\n",
    "            parts.append(dividing_points[i]-old_value)\n",
    "            old_value = dividing_points[i]\n",
    "        parts.append(value-old_value)\n",
    "        #print(parts)\n",
    "    return parts\n",
    "\n",
    "\n",
    "#here edges and weights vectors must already be define\n",
    "#this code associate divide the ownership into many parts, each corresponding to an in-vector to a node\n",
    "def gen_edge_weights(node):\n",
    "    # count number of connections for a node\n",
    "    count = 0\n",
    "    edges_index=[]\n",
    "    \n",
    "    for i in range(len(edges)):\n",
    "        if edges[i][1] == node:\n",
    "            edges_index.append(i)\n",
    "            count=count+1\n",
    "    \n",
    "    #print(count)\n",
    "    parts_local = split_num_random(1,count)\n",
    "    #print(parts_local)\n",
    "    \n",
    "    count = 0\n",
    "    for i in edges_index:\n",
    "        #print(i)\n",
    "        # weights are changed directly over the external variable\n",
    "        weights[i]=parts_local[count]\n",
    "        count=count+1\n",
    "\n",
    "    return True\n",
    "\n",
    "#weights and node values\n",
    "for i in assetlist:\n",
    "    #generate the weights of connections\n",
    "    health=gen_edge_weights(i)\n",
    "    #generate the node value (between 1 and 100)\n",
    "    assets_value.append(np.random.uniform(1,100))\n",
    "    \n",
    "print(weights)\n",
    "print(assets_value)"
   ]
  },
  {
   "cell_type": "code",
   "execution_count": 5,
   "id": "71e1fe2a-79f2-4936-ac68-fb7557aab78f",
   "metadata": {},
   "outputs": [
    {
     "name": "stdout",
     "output_type": "stream",
     "text": [
      "DiGraph with 10 nodes and 21 edges\n",
      "test.html\n"
     ]
    },
    {
     "data": {
      "text/html": [
       "\n",
       "        <iframe\n",
       "            width=\"100%\"\n",
       "            height=\"600px\"\n",
       "            src=\"test.html\"\n",
       "            frameborder=\"0\"\n",
       "            allowfullscreen\n",
       "            \n",
       "        ></iframe>\n",
       "        "
      ],
      "text/plain": [
       "<IPython.lib.display.IFrame at 0x22a3a19fd30>"
      ]
     },
     "execution_count": 5,
     "metadata": {},
     "output_type": "execute_result"
    }
   ],
   "source": [
    "# plot the graph\n",
    "\n",
    "import networkx as nx\n",
    "#import matplotlib.pyplot as plt\n",
    "from pyvis.network import Network\n",
    "\n",
    "G=nx.DiGraph()\n",
    "G.add_edges_from(edges)\n",
    "count=0\n",
    "print(G)\n",
    "net = Network(directed =True,notebook=True, cdn_resources='remote')\n",
    "net.from_nx(G)\n",
    "net.repulsion()\n",
    "net.show(\"test.html\")\n",
    "\n"
   ]
  },
  {
   "cell_type": "code",
   "execution_count": 9,
   "id": "9116a078-7db6-4892-9fb3-0ca6aebbc432",
   "metadata": {},
   "outputs": [],
   "source": [
    "# setting an output to be loaded in Griemling as a dataset\n",
    "# here I will format the output in the graphML standard\n",
    "import os\n",
    "import time\n",
    "\n",
    "G2=nx.DiGraph()\n",
    "for i in range(len(assetlist)):\n",
    "    G2.add_node(assetlist[i],value=assets_value[i])\n",
    "    \n",
    "for i in range(len(edges)):\n",
    "    G2.add_edge(edges[i][0],edges[i][1],fraction=weights[i])\n",
    "    \n",
    "#print(nx.get_node_attributes(G2,\"value\"))\n",
    "#print(\"\\n\",nx.get_edge_attributes(G2,\"fraction\"))\n",
    "\n",
    "time_stamp = time.strftime(\"%d-%H%M%S\") \n",
    "file_name = \"./data/graph_\"+time_stamp +\".graphml\"\n",
    "output_file = open(file_name,\"w\")\n",
    "#nx.write_graphml_lxml(G2,\"./data_out/test1.graphml\")\n",
    "output_file.close()"
   ]
  },
  {
   "cell_type": "code",
   "execution_count": null,
   "id": "beae5e41-47e9-4128-a2cd-2c7bdf378726",
   "metadata": {},
   "outputs": [],
   "source": []
  }
 ],
 "metadata": {
  "kernelspec": {
   "display_name": "Python 3 (ipykernel)",
   "language": "python",
   "name": "python3"
  },
  "language_info": {
   "codemirror_mode": {
    "name": "ipython",
    "version": 3
   },
   "file_extension": ".py",
   "mimetype": "text/x-python",
   "name": "python",
   "nbconvert_exporter": "python",
   "pygments_lexer": "ipython3",
   "version": "3.10.7"
  }
 },
 "nbformat": 4,
 "nbformat_minor": 5
}
