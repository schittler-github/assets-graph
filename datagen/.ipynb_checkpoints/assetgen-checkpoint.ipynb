{
 "cells": [
  {
   "cell_type": "markdown",
   "id": "ca42f41c-9735-4954-be56-1c4138f78cb1",
   "metadata": {
    "tags": []
   },
   "source": [
    "# Synthetic data generator for asset networks\n",
    " Here we first create a list of assets; second we distribute randomly their ownership (fractional)."
   ]
  },
  {
   "cell_type": "code",
   "execution_count": 12,
   "id": "d18b5e94-992c-4e7f-8d92-794c710040cd",
   "metadata": {},
   "outputs": [],
   "source": [
    "import random\n",
    "import string\n",
    "\n",
    "N = 20 # number of nodes\n",
    "c = 0.15 # controll parameter for the connectivity U(0,c)\n",
    "\n",
    "\n",
    "# code to generate a single random string\n",
    "def get_random_string(length):\n",
    "    # Only upper case\n",
    "    letters = string.ascii_uppercase\n",
    "    result_str = ''.join(random.choice(letters) for i in range(length))\n",
    "    # print random string\n",
    "    #print(result_str)\n",
    "    return result_str\n",
    "\n",
    "# code to generate a list of random strings. Return approx \"N=length\" elements because identical ones are dropped\n",
    "def gen_random_asset_list(length,name_length):\n",
    "    my_asset_list = []\n",
    "    for i in range(length):\n",
    "        asset_name = get_random_string(name_length)\n",
    "        my_asset_list.append(asset_name)\n",
    "    #print(my_asset_list)\n",
    "    \n",
    "    #remove identical entries by passing the generated list into a set and back to a list.\n",
    "    new_asset_list = list(set(my_asset_list))\n",
    "    return new_asset_list\n"
   ]
  },
  {
   "cell_type": "code",
   "execution_count": 17,
   "id": "18c8e0c4-437e-4c71-b9cc-e2abba204cab",
   "metadata": {},
   "outputs": [
    {
     "name": "stdout",
     "output_type": "stream",
     "text": [
      "DD   0.010742548787250296\n",
      "FO   0.07153250324614253\n",
      "OG   0.07448869373921624\n",
      "QP   0.05499844149071658\n",
      "MS   0.022387396435097375\n",
      "TD   0.018939384505535273\n",
      "NF   0.008558095194142202\n",
      "ER   0.019177953510640878\n",
      "MZ   0.09489015049803988\n",
      "JT   0.07031492853127452\n",
      "UN   0.07673728456957048\n",
      "ZB   0.05147910021825372\n",
      "PM   0.056536154844515546\n",
      "RG   0.01816434714434263\n",
      "SS   0.042256665805464104\n",
      "ME   0.027759317594308375\n",
      "RY   0.014841662756681218\n",
      "CT   0.020250936484100625\n",
      "QB   0.03200259319424453\n",
      "FP   0.006563556197840137\n"
     ]
    }
   ],
   "source": [
    "# random edge probability per node\n",
    "\n",
    "import numpy as np\n",
    "\n",
    "assetlist = gen_random_asset_list(20,2)\n",
    "# generate a list of probabilities to a edge to exists from each node:\n",
    "node_edge_prob = []\n",
    "count = 0\n",
    "for i in assetlist:\n",
    "    node_edge_prob.append(np.random.uniform(0,0.1))\n",
    "    print(i,\" \",node_edge_prob[count])\n",
    "    count=count+1"
   ]
  },
  {
   "cell_type": "code",
   "execution_count": 19,
   "id": "dae17bed-1ccf-4a63-b503-a302e088dbee",
   "metadata": {},
   "outputs": [
    {
     "name": "stdout",
     "output_type": "stream",
     "text": [
      "[('FO', 'QP'), ('FO', 'ME'), ('OG', 'UN'), ('OG', 'ME'), ('OG', 'QB'), ('OG', 'FP'), ('MS', 'CT'), ('MZ', 'MS'), ('MZ', 'RG'), ('JT', 'NF'), ('JT', 'ER'), ('JT', 'ME'), ('UN', 'JT'), ('PM', 'DD'), ('RG', 'NF'), ('SS', 'ME'), ('RY', 'SS')]\n"
     ]
    }
   ],
   "source": [
    "#generating the edges\n",
    "edges = []\n",
    "\n",
    "count = 0\n",
    "for i in assetlist:\n",
    "    for j in assetlist:\n",
    "        if np.random.uniform(0,1) < node_edge_prob[count] and i!=j:\n",
    "            edges.append((i,j))\n",
    "    count=count+1\n",
    "\n",
    "print(edges)"
   ]
  },
  {
   "cell_type": "code",
   "execution_count": 20,
   "id": "1eefd4ed-529d-4698-8e5a-e5389a6a7e50",
   "metadata": {},
   "outputs": [
    {
     "name": "stdout",
     "output_type": "stream",
     "text": [
      "[0, 0, 0, 0, 0, 0, 0, 0, 0, 0, 0, 0, 0, 0, 0, 0, 0]\n",
      "[1, 0.009334687375733286, 1, 0.7681354811550553, 1, 1, 1, 1, 1, 0.8825092623574553, 1, 0.07133475570285741, 1, 1, 0.1174907376425447, 0.15119507576635405, 1]\n",
      "[100, 100, 100, 100, 100, 100, 100, 100, 100, 100, 100, 100, 100, 100, 100, 100, 100, 100, 100, 100]\n"
     ]
    }
   ],
   "source": [
    "#generate edges weigths: percentage over ownership\n",
    "\n",
    "weights = [0]*len(edges)\n",
    "print(weights)\n",
    "assets_value = []\n",
    "\n",
    "#this will split the value in a given number of parts\n",
    "def split_num_random(value,num_parts):\n",
    "    dividing_points = []\n",
    "    parts = []\n",
    "    if num_parts == 1:\n",
    "        parts.append(value)\n",
    "        \n",
    "    elif num_parts > 1:\n",
    "        for i in range(0, num_parts-1):\n",
    "            dividing_points.append(np.random.uniform(0,value))\n",
    "        dividing_points.sort()\n",
    "        #print(dividing_points)\n",
    "        old_value = 0\n",
    "        for i in range(len(dividing_points)):\n",
    "            parts.append(dividing_points[i]-old_value)\n",
    "            old_value = dividing_points[i]\n",
    "        parts.append(value-old_value)\n",
    "        #print(parts)\n",
    "    return parts\n",
    "\n",
    "\n",
    "#here edges and weights vectors must already be define\n",
    "#this code associate divide the ownership into many parts, each corresponding to an in-vector to a node\n",
    "def gen_edge_weights(node):\n",
    "    # count number of connections for a node\n",
    "    count = 0\n",
    "    edges_index=[]\n",
    "    \n",
    "    for i in range(len(edges)):\n",
    "        if edges[i][1] == node:\n",
    "            edges_index.append(i)\n",
    "            count=count+1\n",
    "    \n",
    "    #print(count)\n",
    "    parts_local = split_num_random(1,count)\n",
    "    #print(parts_local)\n",
    "    \n",
    "    count = 0\n",
    "    for i in edges_index:\n",
    "        #print(i)\n",
    "        # weights are changed directly over the external variable\n",
    "        weights[i]=parts_local[count]\n",
    "        count=count+1\n",
    "\n",
    "    return True\n",
    "\n",
    "#weights and node values\n",
    "for i in assetlist:\n",
    "    #generate the weights of connections\n",
    "    health=gen_edge_weights(i)\n",
    "    #generate the node value (between 1 and 100)\n",
    "    #assets_value.append(np.random.uniform(1,100))\n",
    "    \n",
    "    #for testing, all worth 100\n",
    "    assets_value.append(100)\n",
    "    \n",
    "print(weights)\n",
    "print(assets_value)"
   ]
  },
  {
   "cell_type": "code",
   "execution_count": 21,
   "id": "71e1fe2a-79f2-4936-ac68-fb7557aab78f",
   "metadata": {},
   "outputs": [
    {
     "name": "stdout",
     "output_type": "stream",
     "text": [
      "DiGraph with 18 nodes and 17 edges\n",
      "test.html\n"
     ]
    },
    {
     "data": {
      "text/html": [
       "\n",
       "        <iframe\n",
       "            width=\"100%\"\n",
       "            height=\"600px\"\n",
       "            src=\"test.html\"\n",
       "            frameborder=\"0\"\n",
       "            allowfullscreen\n",
       "            \n",
       "        ></iframe>\n",
       "        "
      ],
      "text/plain": [
       "<IPython.lib.display.IFrame at 0x22a3ba8a2f0>"
      ]
     },
     "execution_count": 21,
     "metadata": {},
     "output_type": "execute_result"
    }
   ],
   "source": [
    "# plot the graph\n",
    "\n",
    "import networkx as nx\n",
    "#import matplotlib.pyplot as plt\n",
    "from pyvis.network import Network\n",
    "\n",
    "G=nx.DiGraph()\n",
    "G.add_edges_from(edges)\n",
    "count=0\n",
    "print(G)\n",
    "net = Network(directed =True,notebook=True, cdn_resources='remote')\n",
    "net.from_nx(G)\n",
    "net.repulsion()\n",
    "net.show(\"test.html\")\n",
    "\n"
   ]
  },
  {
   "cell_type": "code",
   "execution_count": 11,
   "id": "9116a078-7db6-4892-9fb3-0ca6aebbc432",
   "metadata": {},
   "outputs": [],
   "source": [
    "# setting an output to be loaded in Griemling as a dataset\n",
    "# here I will format the output in the graphML standard\n",
    "import os\n",
    "import time\n",
    "\n",
    "G2=nx.DiGraph()\n",
    "for i in range(len(assetlist)):\n",
    "    G2.add_node(assetlist[i],value=assets_value[i])\n",
    "    \n",
    "for i in range(len(edges)):\n",
    "    G2.add_edge(edges[i][0],edges[i][1],fraction=weights[i])\n",
    "    \n",
    "#print(nx.get_node_attributes(G2,\"value\"))\n",
    "#print(\"\\n\",nx.get_edge_attributes(G2,\"fraction\"))\n",
    "\n",
    "time_stamp = time.strftime(\"%d-%H%M%S\") \n",
    "file_name = \"./data/graph_\"+time_stamp +\".graphml\"\n",
    "output_file = open(file_name,\"w\")\n",
    "nx.write_graphml_lxml(G2,file_name)\n",
    "output_file.close()"
   ]
  },
  {
   "cell_type": "code",
   "execution_count": null,
   "id": "beae5e41-47e9-4128-a2cd-2c7bdf378726",
   "metadata": {},
   "outputs": [],
   "source": []
  }
 ],
 "metadata": {
  "kernelspec": {
   "display_name": "Python 3 (ipykernel)",
   "language": "python",
   "name": "python3"
  },
  "language_info": {
   "codemirror_mode": {
    "name": "ipython",
    "version": 3
   },
   "file_extension": ".py",
   "mimetype": "text/x-python",
   "name": "python",
   "nbconvert_exporter": "python",
   "pygments_lexer": "ipython3",
   "version": "3.10.7"
  }
 },
 "nbformat": 4,
 "nbformat_minor": 5
}
