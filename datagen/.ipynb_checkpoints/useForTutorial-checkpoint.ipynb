{
 "cells": [
  {
   "cell_type": "markdown",
   "id": "ca42f41c-9735-4954-be56-1c4138f78cb1",
   "metadata": {
    "tags": []
   },
   "source": [
    "# Synthetic data generator for asset networks\n",
    " Here we first create a list of assets; second we distribute randomly their ownership (fractional)."
   ]
  },
  {
   "cell_type": "code",
   "execution_count": 260,
   "id": "d18b5e94-992c-4e7f-8d92-794c710040cd",
   "metadata": {},
   "outputs": [],
   "source": [
    "import random\n",
    "import string\n",
    "\n",
    "N = 10 # number of nodes\n",
    "c = 0.2 # controll parameter for the connectivity U(0,c)\n",
    "\n",
    "\n",
    "# code to generate a single random string\n",
    "def get_random_string(length):    # Only upper case\n",
    "    letters = string.ascii_uppercase\n",
    "    result_str = ''.join(random.choice(letters) for i in range(length))\n",
    "    # print random string\n",
    "    #print(result_str)\n",
    "    return result_str\n",
    "\n",
    "# code to generate a list of random strings. Return approx \"N=length\" elements because identical ones are dropped\n",
    "def gen_random_asset_list(length,name_length):\n",
    "    my_asset_list = []\n",
    "    for i in range(length):\n",
    "        asset_name = get_random_string(name_length)\n",
    "        my_asset_list.append(asset_name)\n",
    "    #print(my_asset_list)\n",
    "    \n",
    "    #remove identical entries by passing the generated list into a set and back to a list.\n",
    "    new_asset_list = list(set(my_asset_list))\n",
    "    return new_asset_list\n"
   ]
  },
  {
   "cell_type": "code",
   "execution_count": 261,
   "id": "18c8e0c4-437e-4c71-b9cc-e2abba204cab",
   "metadata": {},
   "outputs": [
    {
     "name": "stdout",
     "output_type": "stream",
     "text": [
      "SF   0   0.2\n",
      "OM   1   0.2\n",
      "VT   2   0.2\n",
      "MP   3   0.2\n",
      "NZ   4   0.2\n",
      "YR   5   0.2\n",
      "ZQ   6   0.2\n",
      "WS   7   0.2\n",
      "UX   8   0.2\n",
      "ZN   9   0.2\n"
     ]
    }
   ],
   "source": [
    "# random edge probability per node\n",
    "\n",
    "import numpy as np\n",
    "\n",
    "assetlist = gen_random_asset_list(N,2)\n",
    "num_assetlist = []\n",
    "\n",
    "for i in range(len(assetlist)):\n",
    "    num_assetlist.append(i)\n",
    "# generate a list of probabilities to a edge to exists from each node:\n",
    "node_edge_prob = []\n",
    "count = 0\n",
    "for i in assetlist:\n",
    "    #node_edge_prob.append(np.random.uniform(0,c))\n",
    "    #for the moment let us make it fixed\n",
    "    node_edge_prob.append(c)\n",
    "    print(i,\" \",num_assetlist[count], \" \",node_edge_prob[count])\n",
    "    count=count+1\n",
    "\n",
    "\n",
    "    "
   ]
  },
  {
   "cell_type": "code",
   "execution_count": 262,
   "id": "dae17bed-1ccf-4a63-b503-a302e088dbee",
   "metadata": {},
   "outputs": [
    {
     "name": "stdout",
     "output_type": "stream",
     "text": [
      "[('SF', 'WS'), ('OM', 'VT'), ('OM', 'NZ'), ('OM', 'YR'), ('VT', 'SF'), ('VT', 'WS'), ('MP', 'YR'), ('MP', 'WS'), ('YR', 'NZ'), ('YR', 'ZN'), ('ZQ', 'VT'), ('ZQ', 'NZ'), ('UX', 'MP'), ('UX', 'ZQ'), ('ZN', 'UX')]\n"
     ]
    }
   ],
   "source": [
    "#generating the edges\n",
    "edges = []\n",
    "\n",
    "count = 0\n",
    "for i in assetlist:\n",
    "    for j in assetlist:\n",
    "        if np.random.uniform(0,1) < node_edge_prob[count] and i!=j:\n",
    "            edges.append((i,j))\n",
    "    count=count+1\n",
    "\n",
    "print(edges)"
   ]
  },
  {
   "cell_type": "code",
   "execution_count": 263,
   "id": "1eefd4ed-529d-4698-8e5a-e5389a6a7e50",
   "metadata": {},
   "outputs": [
    {
     "name": "stdout",
     "output_type": "stream",
     "text": [
      "[0, 0, 0, 0, 0, 0, 0, 0, 0, 0, 0, 0, 0, 0, 0]\n",
      "[0.25851643679856684, 0.3406406555390943, 0.0003040960850833052, 0.16672700222845704, 1, 0.14893028536439823, 0.833272997771543, 0.5925532778370349, 0.0080044370245963, 1, 0.6593593444609057, 0.9916914668903204, 1, 1, 1]\n",
      "[100, 100, 100, 100, 100, 100, 100, 100, 100, 100]\n"
     ]
    }
   ],
   "source": [
    "#generate edges weigths: percentage over ownership\n",
    "\n",
    "weights = [0]*len(edges)\n",
    "print(weights)\n",
    "assets_value = []\n",
    "\n",
    "#this will split the value in a given number of parts\n",
    "def split_num_random(value,num_parts):\n",
    "    dividing_points = []\n",
    "    parts = []\n",
    "    if num_parts == 1:\n",
    "        parts.append(value)\n",
    "        \n",
    "    elif num_parts > 1:\n",
    "        for i in range(0, num_parts-1):\n",
    "            dividing_points.append(np.random.uniform(0,value))\n",
    "        dividing_points.sort()\n",
    "        #print(dividing_points)\n",
    "        old_value = 0\n",
    "        for i in range(len(dividing_points)):\n",
    "            parts.append(dividing_points[i]-old_value)\n",
    "            old_value = dividing_points[i]\n",
    "        parts.append(value-old_value)\n",
    "        #print(parts)\n",
    "    return parts\n",
    "\n",
    "\n",
    "#here edges and weights vectors must already be define\n",
    "#this code associate divide the ownership into many parts, each corresponding to an in-vector to a node\n",
    "def gen_edge_weights(node):\n",
    "    # count number of connections for a node\n",
    "    count = 0\n",
    "    edges_index=[]\n",
    "    \n",
    "    for i in range(len(edges)):\n",
    "        if edges[i][1] == node:\n",
    "            edges_index.append(i)\n",
    "            count=count+1\n",
    "    \n",
    "    #print(count)\n",
    "    parts_local = split_num_random(1,count)\n",
    "    #print(parts_local)\n",
    "    \n",
    "    count = 0\n",
    "    for i in edges_index:\n",
    "        #print(i)\n",
    "        # weights are changed directly over the external variable\n",
    "        weights[i]=parts_local[count]\n",
    "        count=count+1\n",
    "\n",
    "    return True\n",
    "\n",
    "#weights and node values\n",
    "for i in assetlist:\n",
    "    #generate the weights of connections\n",
    "    health=gen_edge_weights(i)\n",
    "    #generate the node value (between 1 and 100)\n",
    "    #assets_value.append(np.random.uniform(1,100))\n",
    "    \n",
    "    #for testing, all worth 100\n",
    "    assets_value.append(100)\n",
    "    \n",
    "print(weights)\n",
    "print(assets_value)"
   ]
  },
  {
   "cell_type": "code",
   "execution_count": 264,
   "id": "71e1fe2a-79f2-4936-ac68-fb7557aab78f",
   "metadata": {},
   "outputs": [
    {
     "name": "stdout",
     "output_type": "stream",
     "text": [
      "DiGraph with 10 nodes and 15 edges\n",
      "test.html\n"
     ]
    },
    {
     "data": {
      "text/html": [
       "\n",
       "        <iframe\n",
       "            width=\"100%\"\n",
       "            height=\"600px\"\n",
       "            src=\"test.html\"\n",
       "            frameborder=\"0\"\n",
       "            allowfullscreen\n",
       "            \n",
       "        ></iframe>\n",
       "        "
      ],
      "text/plain": [
       "<IPython.lib.display.IFrame at 0x283d2844400>"
      ]
     },
     "execution_count": 264,
     "metadata": {},
     "output_type": "execute_result"
    }
   ],
   "source": [
    "# plot the graph\n",
    "\n",
    "import networkx as nx\n",
    "#import matplotlib.pyplot as plt\n",
    "from pyvis.network import Network\n",
    "\n",
    "G=nx.DiGraph()\n",
    "G.add_edges_from(edges)\n",
    "count=0\n",
    "print(G)\n",
    "net = Network(directed =True,notebook=True, cdn_resources='remote')\n",
    "net.from_nx(G)\n",
    "net.repulsion()\n",
    "net.show(\"test.html\")\n",
    "\n"
   ]
  },
  {
   "cell_type": "code",
   "execution_count": 274,
   "id": "9116a078-7db6-4892-9fb3-0ca6aebbc432",
   "metadata": {},
   "outputs": [],
   "source": [
    "# setting an output to be loaded in Gremling as a dataset\n",
    "# here I will format the output in the graphML standard\n",
    "import os\n",
    "import time\n",
    "\n",
    "G2=nx.DiGraph()\n",
    "for i in range(len(assetlist)):\n",
    "    G2.add_node(assetlist[i],value=assets_value[i])\n",
    "    \n",
    "for i in range(len(edges)):\n",
    "    G2.add_edge(edges[i][0],edges[i][1],fraction=weights[i])\n",
    "\n",
    "# name it with .xml extention instead of .graphml, the g.io() loading function does not to seem to recognize it otherwise\n",
    "time_stamp = time.strftime(\"%d-%H%M%S\") \n",
    "file_name = \"D:\\\\gitrepos\\\\assetnet\\\\datagen\\data\\\\graph_\"+time_stamp +\".xml\"\n",
    "output_file = open(file_name,\"w\")\n",
    "nx.write_graphml_lxml(G2,file_name)\n",
    "output_file.close()"
   ]
  },
  {
   "cell_type": "code",
   "execution_count": 275,
   "id": "beae5e41-47e9-4128-a2cd-2c7bdf378726",
   "metadata": {},
   "outputs": [],
   "source": [
    "#import jugri\n",
    "\n",
    "# setup the connect to the Gremlin server\n",
    "from gremlin_python import statics\n",
    "from gremlin_python.structure.graph import Graph\n",
    "from gremlin_python.process.graph_traversal import __\n",
    "from gremlin_python.process.strategies import *\n",
    "\n",
    "# python and Gremlin commands overlap in their naming. This library will provide the mapping to resolve that\n",
    "from gremlin_python.process.traversal import Barrier, Bindings, Cardinality, Column, Direction, Operator, Order, P, Pop, Scope, T, WithOptions\n",
    "\n",
    "# Create a GraphTraversalSource which is the basis for all Gremlin traversals\n",
    "from gremlin_python.process.anonymous_traversal import traversal\n",
    "from gremlin_python.driver.driver_remote_connection import DriverRemoteConnection\n",
    "\n",
    "#directly from python (not a notebook like jupter) do this\n",
    "#g = traversal().withRemote(DriverRemoteConnection('ws://localhost:8182/gremlin','g'))\n",
    "\n",
    "#only for notebooks, to avoit \"loop already running\" error, do this:\n",
    "from gremlin_python.driver.aiohttp.transport import AiohttpTransport\n",
    "connection = DriverRemoteConnection('ws://localhost:8182/gremlin','g', transport_factory=lambda:AiohttpTransport(call_from_event_loop=True))\n",
    "\n",
    "g = traversal().withRemote(connection)\n",
    "g.V().drop().iterate()"
   ]
  },
  {
   "cell_type": "code",
   "execution_count": 276,
   "id": "3d9aeab5-6f06-4d86-9a14-5402897e2591",
   "metadata": {},
   "outputs": [
    {
     "data": {
      "text/plain": [
       "[['io', 'D:\\\\gitrepos\\\\assetnet\\\\datagen\\\\data\\\\graph_31-214541.xml'], ['read'], ['none'], ['values', '_ipython_canary_method_should_not_exist_'], ['values', '_ipython_canary_method_should_not_exist_']]"
      ]
     },
     "execution_count": 276,
     "metadata": {},
     "output_type": "execute_result"
    }
   ],
   "source": [
    "# using a test graph to compare results witht he gremlin console: later use the path to the latest graph\n",
    "#g.io(\"D:\\\\gitrepos\\\\assetnet\\\\gremlinTest\\\\graph_test_renamed.xml\").read().iterate()\n",
    "g.io(file_name).read().iterate()"
   ]
  },
  {
   "cell_type": "code",
   "execution_count": 277,
   "id": "86909a95-e7db-4fbc-9d1e-53a91ca0d050",
   "metadata": {},
   "outputs": [
    {
     "data": {
      "text/plain": [
       "['ZQ', 'MP']"
      ]
     },
     "execution_count": 277,
     "metadata": {},
     "output_type": "execute_result"
    }
   ],
   "source": [
    "lista= g.V(\"UX\").out().id_().toList()\n",
    "lista"
   ]
  },
  {
   "cell_type": "code",
   "execution_count": 280,
   "id": "fb1f2dae-41e5-4585-a42e-87ff969d1f2b",
   "metadata": {},
   "outputs": [
    {
     "data": {
      "text/plain": [
       "[1, 1]"
      ]
     },
     "execution_count": 280,
     "metadata": {},
     "output_type": "execute_result"
    }
   ],
   "source": [
    "lista_init_values= g.V(\"UX\").outE().values(\"fraction\").toList()\n",
    "lista_init_values"
   ]
  },
  {
   "cell_type": "code",
   "execution_count": 281,
   "id": "ab0e6dcb-c74c-4ce8-ae1e-2bd3165dd9ac",
   "metadata": {},
   "outputs": [
    {
     "name": "stdout",
     "output_type": "stream",
     "text": [
      "{'ZQ': 1, 'MP': 1}\n"
     ]
    }
   ],
   "source": [
    "mydic = {}\n",
    "for i in range(len(lista)):\n",
    "    mydic[lista[i]] = lista_init_values[i]\n",
    "print(mydic)"
   ]
  },
  {
   "cell_type": "code",
   "execution_count": 283,
   "id": "4a996ac5-481e-406a-bd3d-27894041d718",
   "metadata": {},
   "outputs": [
    {
     "data": {
      "text/plain": [
       "1"
      ]
     },
     "execution_count": 283,
     "metadata": {},
     "output_type": "execute_result"
    }
   ],
   "source": [
    "mydic[\"ZQ\"]"
   ]
  },
  {
   "cell_type": "code",
   "execution_count": 285,
   "id": "f84ec583-0b18-4dbe-a383-bfeb3b1c5990",
   "metadata": {},
   "outputs": [
    {
     "data": {
      "text/plain": [
       "[path[v[MP], v[YR], v[ZN], v[UX]]]"
      ]
     },
     "execution_count": 285,
     "metadata": {},
     "output_type": "execute_result"
    }
   ],
   "source": [
    "from gremlin_python.process.traversal import Barrier, Bindings, Cardinality, Column, Direction, Operator, Order, P, Pop, Scope, T, WithOptions\n",
    "\n",
    "lista3 = g.V(lista).until(__.has(T.id,\"UX\")).repeat(__.out().simplePath()).path().limit(5).toList()\n",
    "lista3"
   ]
  },
  {
   "cell_type": "code",
   "execution_count": 287,
   "id": "547ee47c-b3f3-42ae-9ffe-8a3c3556c84b",
   "metadata": {},
   "outputs": [
    {
     "data": {
      "text/plain": [
       "[0.833272997771543]"
      ]
     },
     "execution_count": 287,
     "metadata": {},
     "output_type": "execute_result"
    }
   ],
   "source": [
    "# multiply the weights of connections trough the path\n",
    "lista5 = g.withSack(1).V(lista)\\\n",
    "        .until(__.has(T.id,\"UX\")).repeat(__.outE().sack(Operator.mult).by(\"fraction\").inV().simplePath())\\\n",
    "        .sack().limit(5).toList()\n",
    "lista5"
   ]
  },
  {
   "cell_type": "code",
   "execution_count": 288,
   "id": "186ebfae-6012-4704-a432-f6c246b8d16e",
   "metadata": {},
   "outputs": [
    {
     "name": "stdout",
     "output_type": "stream",
     "text": [
      "[1]\n"
     ]
    }
   ],
   "source": [
    "lista_first_element = []\n",
    "lista_first_value = []\n",
    "for i in lista3:\n",
    "    lista_first_element.append(i[0])\n",
    "    val = g.V(i[0]).id_().toList()\n",
    "    # val is a list with one string, not a string, so use val[0] to get a simple string\n",
    "    lista_first_value.append(mydic[val[0]])\n",
    "print(lista_first_value)\n",
    "    "
   ]
  },
  {
   "cell_type": "code",
   "execution_count": 289,
   "id": "38e3472f-61df-4819-bfbf-75928661ac33",
   "metadata": {},
   "outputs": [
    {
     "name": "stdout",
     "output_type": "stream",
     "text": [
      "[0.833272997771543]\n"
     ]
    },
    {
     "data": {
      "text/plain": [
       "0.833272997771543"
      ]
     },
     "execution_count": 289,
     "metadata": {},
     "output_type": "execute_result"
    }
   ],
   "source": [
    "finalValues = []\n",
    "for i in range(len(lista5)):\n",
    "    finalValues.append(lista5[i]*lista_first_value[i])\n",
    "print(finalValues)\n",
    "\n",
    "sum(finalValues)"
   ]
  },
  {
   "cell_type": "code",
   "execution_count": 40,
   "id": "ecb34fb9-fcb1-4228-ad01-39f4adb73549",
   "metadata": {},
   "outputs": [],
   "source": [
    "# The connection should be closed on shut down to close open connections with connection.close()\n",
    "connection.close()"
   ]
  }
 ],
 "metadata": {
  "kernelspec": {
   "display_name": "Python 3 (ipykernel)",
   "language": "python",
   "name": "python3"
  },
  "language_info": {
   "codemirror_mode": {
    "name": "ipython",
    "version": 3
   },
   "file_extension": ".py",
   "mimetype": "text/x-python",
   "name": "python",
   "nbconvert_exporter": "python",
   "pygments_lexer": "ipython3",
   "version": "3.10.7"
  }
 },
 "nbformat": 4,
 "nbformat_minor": 5
}
